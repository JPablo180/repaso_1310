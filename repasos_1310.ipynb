{
  "nbformat": 4,
  "nbformat_minor": 0,
  "metadata": {
    "colab": {
      "name": "repasos_1310.ipynb",
      "provenance": [],
      "collapsed_sections": []
    },
    "kernelspec": {
      "name": "python3",
      "display_name": "Python 3"
    },
    "language_info": {
      "name": "python"
    }
  },
  "cells": [
    {
      "cell_type": "markdown",
      "metadata": {
        "id": "wSVk7AlQfz5p"
      },
      "source": [
        "# Repaso de programacíon en Python 3\n",
        "#### EDD 1310\n",
        "\n",
        "La funcion Print\n",
        "1. Utilizando comillas dobles \"\" o simples '\n",
        "2. Utilizando el signo \",\"\n",
        "3. Utilizando el signo \"+\"\n",
        "4. Utilizando la funcion format\n",
        "5. El operador"
      ]
    },
    {
      "cell_type": "code",
      "metadata": {
        "colab": {
          "base_uri": "https://localhost:8080/"
        },
        "id": "LZkZekbQgQrU",
        "outputId": "bd11c854-5b35-4aab-d6d0-1a03bdba803e"
      },
      "source": [
        "print('Hola Mundo')\n",
        "print(\"Hola Mundo\")\n",
        "\n",
        "nombre = \"Pablo\"\n",
        "carrera = \"ingenieria en computacion\"\n",
        "print(nombre)\n",
        "\n",
        "print(\"Hola \" , nombre)\n",
        "print(\"Hola\" + nombre)\n",
        "print('Tu nombre es' ,nombre, 'y estudias' ,carrera,)\n",
        "\n",
        "\n",
        "# con format\n",
        "\n",
        "print(\"Tu nombre es {0} y estudias {1}\" .format(nombre,carrera))\n",
        "print(\"Tu nombre es {} y \\n estudias {}\" .format(nombre,carrera))\n",
        "\n",
        "\n",
        "#con el operador f'\n",
        "print(f'Tu nombre es {nombre} y estudias {carrera}')\n",
        "\n",
        "\n",
        "#Salto de linea \n",
        "print(nombre)\n",
        "print(\"\")\n",
        "print(carrera)\n",
        "\n"
      ],
      "execution_count": null,
      "outputs": [
        {
          "output_type": "stream",
          "name": "stdout",
          "text": [
            "Hola Mundo\n",
            "Hola Mundo\n",
            "Pablo\n",
            "Hola  Pablo\n",
            "HolaPablo\n",
            "Tu nombre es Pablo y estudias ingenieria en computacion\n",
            "Tu nombre es Pablo y estudias ingenieria en computacion\n",
            "Tu nombre es Pablo y \n",
            " estudias ingenieria en computacion\n",
            "Tu nombre es Pablo y estudias ingenieria en computacion\n",
            "Pablo\n",
            "\n",
            "ingenieria en computacion\n"
          ]
        }
      ]
    },
    {
      "cell_type": "markdown",
      "metadata": {
        "id": "tiB_A7j6krV0"
      },
      "source": [
        "## Entrada de Datos\n",
        "## Funcion input()\n",
        "Sirve para pedir datos al usuario, equivalente al scanf del lenguaje c o a la clase scanner de java.\n",
        "\n",
        "Siempre regresa un String\n"
      ]
    },
    {
      "cell_type": "code",
      "metadata": {
        "colab": {
          "base_uri": "https://localhost:8080/"
        },
        "id": "BVBFWorGk_3_",
        "outputId": "da5cfbff-7126-4d9f-be04-342bf2c0aa84"
      },
      "source": [
        "nombre = input(\"Ingresa tu nombre: \")\n",
        "print(f'Tu nombre es {nombre}')\n",
        "\n",
        "\n",
        "semestre = input('En que semestres estas: ')\n",
        "print('Vas en {} semestre' .format(semestre))\n",
        "semestre = int (semestre) + 1  #Para pasar de strin a int\n",
        "print(semestre)\n",
        "semestre = semestre + 1 #Ya no es necesario escribir el int ya que ya esta convertida\n",
        "print(f'Estas en {semestre}')\n",
        "\n",
        "\n",
        "semestre = int (input('¿En que semestre vas?: '))\n",
        "semestre = semestre + 1\n",
        "print(semestre)"
      ],
      "execution_count": null,
      "outputs": [
        {
          "output_type": "stream",
          "name": "stdout",
          "text": [
            "Ingresa tu nombre: popo\n",
            "Tu nombre es popo\n",
            "En que semestres estas: 65\n",
            "Vas en 65 semestre\n",
            "66\n",
            "Estas en 67\n",
            "¿En que semestre vas?: 54\n",
            "55\n"
          ]
        }
      ]
    },
    {
      "cell_type": "markdown",
      "metadata": {
        "id": "KDxAoV_BnaTj"
      },
      "source": [
        "### Tarea Moral \n",
        "Investigar los siguientes conceptos en python\n",
        "- Operadores \n",
        "  - Aritmeticos\n",
        "  - Logicos\n",
        "  - Booleanos (and, or, not) como se utilizan en python\n",
        "- Aritmetica \n",
        "  - Asignacion \n",
        "  - Agrupacion de ecuaciones con parentesis (precedencia de operadores) \n",
        "\n",
        "- Comentarios \n",
        "  - De simple linea \n",
        "  - De line multiple\n",
        "- Tipos de datos en Python \n",
        "\n"
      ]
    },
    {
      "cell_type": "markdown",
      "metadata": {
        "id": "3ru9xLhDoq1S"
      },
      "source": [
        "# Repaso del Tipo String (Str)\n",
        "Es un tipo de dato muy versatil. Los tipos de datos en python en realidad son objetos (POO), es decir que tiene atributos y métodos.\n",
        "\n",
        "Los valores internos de un String se almacenan como un arreglo, es decir, se accede a los elementos con el operador [indice\n"
      ]
    },
    {
      "cell_type": "code",
      "metadata": {
        "colab": {
          "base_uri": "https://localhost:8080/"
        },
        "id": "NpMu_gh4pBeu",
        "outputId": "518aae60-4665-4f10-d478-04073ad0b3a9"
      },
      "source": [
        "frase = \"El conocimiento me persigue... pero yo soy mas rápido!!+\"\n",
        "\n",
        "# Como se almacena \n",
        "print(frase[3])\n",
        "\n",
        "print(len(frase )) #El len es para saber la longitud de la frase\n",
        "print(frase[55]) # De derecha a izquierda\n",
        "\n",
        "\n",
        "# indexado Negativo \n",
        "print(frase[-8]) # De izquierda a derecha\n",
        "\n",
        "\n",
        "# Iterar sobre un String \n",
        "for letra in frase:\n",
        "  print(letra)\n",
        "print(\"Fin\")"
      ],
      "execution_count": null,
      "outputs": [
        {
          "output_type": "stream",
          "name": "stdout",
          "text": [
            "c\n",
            "56\n",
            "+\n",
            "á\n",
            "E\n",
            "l\n",
            " \n",
            "c\n",
            "o\n",
            "n\n",
            "o\n",
            "c\n",
            "i\n",
            "m\n",
            "i\n",
            "e\n",
            "n\n",
            "t\n",
            "o\n",
            " \n",
            "m\n",
            "e\n",
            " \n",
            "p\n",
            "e\n",
            "r\n",
            "s\n",
            "i\n",
            "g\n",
            "u\n",
            "e\n",
            ".\n",
            ".\n",
            ".\n",
            " \n",
            "p\n",
            "e\n",
            "r\n",
            "o\n",
            " \n",
            "y\n",
            "o\n",
            " \n",
            "s\n",
            "o\n",
            "y\n",
            " \n",
            "m\n",
            "a\n",
            "s\n",
            " \n",
            "r\n",
            "á\n",
            "p\n",
            "i\n",
            "d\n",
            "o\n",
            "!\n",
            "!\n",
            "+\n",
            "Fin\n"
          ]
        }
      ]
    },
    {
      "cell_type": "markdown",
      "metadata": {
        "id": "S8yESjR7GV_6"
      },
      "source": [
        "#slicing (rebanado)\n",
        "Es posible seleccionar segmentos de una lista (str)por medio de la sintaxis [ ´<inicio> : <tope> : <incrementos>´\n",
        "\n",
        "Por defecto: Inicio = 0 \n",
        "Tope = tamaño de la lista (str), no se incluye el tope\n",
        "Incremento = 1"
      ]
    },
    {
      "cell_type": "code",
      "metadata": {
        "colab": {
          "base_uri": "https://localhost:8080/"
        },
        "id": "JWzsXoN8HAiz",
        "outputId": "884d6609-292e-4cf8-86c8-6dcd6392db11"
      },
      "source": [
        "nombre = \"Facultad de estidios superiores aragon\"\n",
        "\n",
        "print( nombre[0] )\n",
        "print( nombre[-1] )\n",
        "\n",
        "# Slicing\n",
        "\n",
        "print( nombre[ 2 : 5 : 1] )\n",
        "print( nombre[0 : 8 : 1] )\n",
        "\n",
        "#Slicing con indexado negativo (-)\n",
        "print( nombre[ -6 :  : 1 ] )\n",
        "print( nombre[ 7 :  : -1] )\n"
      ],
      "execution_count": null,
      "outputs": [
        {
          "output_type": "stream",
          "name": "stdout",
          "text": [
            "F\n",
            "n\n",
            "cul\n",
            "Facultad\n",
            "aragon\n",
            "datlucaF\n"
          ]
        }
      ]
    },
    {
      "cell_type": "markdown",
      "metadata": {
        "id": "4uPUNfgkKkY6"
      },
      "source": [
        "# String como objeto\n",
        "El tipo de dato string es una clase por lo tanto tiene atributos y métodos.\n",
        "\n",
        "### Ayuda en linea de Python\n",
        "Hay dos funcioneees que te dan ayuda en python:\n",
        "1. dir()\n",
        "2. help()"
      ]
    },
    {
      "cell_type": "code",
      "metadata": {
        "colab": {
          "base_uri": "https://localhost:8080/"
        },
        "id": "MCw5SPMOK5DW",
        "outputId": "ebb3fef2-f109-4ae7-9633-6ff3afa4c8f4"
      },
      "source": [
        "dir(str)"
      ],
      "execution_count": null,
      "outputs": [
        {
          "output_type": "execute_result",
          "data": {
            "text/plain": [
              "['__add__',\n",
              " '__class__',\n",
              " '__contains__',\n",
              " '__delattr__',\n",
              " '__dir__',\n",
              " '__doc__',\n",
              " '__eq__',\n",
              " '__format__',\n",
              " '__ge__',\n",
              " '__getattribute__',\n",
              " '__getitem__',\n",
              " '__getnewargs__',\n",
              " '__gt__',\n",
              " '__hash__',\n",
              " '__init__',\n",
              " '__init_subclass__',\n",
              " '__iter__',\n",
              " '__le__',\n",
              " '__len__',\n",
              " '__lt__',\n",
              " '__mod__',\n",
              " '__mul__',\n",
              " '__ne__',\n",
              " '__new__',\n",
              " '__reduce__',\n",
              " '__reduce_ex__',\n",
              " '__repr__',\n",
              " '__rmod__',\n",
              " '__rmul__',\n",
              " '__setattr__',\n",
              " '__sizeof__',\n",
              " '__str__',\n",
              " '__subclasshook__',\n",
              " 'capitalize',\n",
              " 'casefold',\n",
              " 'center',\n",
              " 'count',\n",
              " 'encode',\n",
              " 'endswith',\n",
              " 'expandtabs',\n",
              " 'find',\n",
              " 'format',\n",
              " 'format_map',\n",
              " 'index',\n",
              " 'isalnum',\n",
              " 'isalpha',\n",
              " 'isascii',\n",
              " 'isdecimal',\n",
              " 'isdigit',\n",
              " 'isidentifier',\n",
              " 'islower',\n",
              " 'isnumeric',\n",
              " 'isprintable',\n",
              " 'isspace',\n",
              " 'istitle',\n",
              " 'isupper',\n",
              " 'join',\n",
              " 'ljust',\n",
              " 'lower',\n",
              " 'lstrip',\n",
              " 'maketrans',\n",
              " 'partition',\n",
              " 'replace',\n",
              " 'rfind',\n",
              " 'rindex',\n",
              " 'rjust',\n",
              " 'rpartition',\n",
              " 'rsplit',\n",
              " 'rstrip',\n",
              " 'split',\n",
              " 'splitlines',\n",
              " 'startswith',\n",
              " 'strip',\n",
              " 'swapcase',\n",
              " 'title',\n",
              " 'translate',\n",
              " 'upper',\n",
              " 'zfill']"
            ]
          },
          "metadata": {},
          "execution_count": 14
        }
      ]
    },
    {
      "cell_type": "code",
      "metadata": {
        "colab": {
          "base_uri": "https://localhost:8080/"
        },
        "id": "et4As2QALVS4",
        "outputId": "21b991ec-3887-40e6-c893-a8e725091717"
      },
      "source": [
        "apellido = \"trejo ramírez\"\n",
        "print( apellido.capitalize() )\n",
        "print( apellido.title() )\n",
        "print( apellido.find(\"a\") )\n",
        "print( \"LOPEZ PEREZ\".lower() )\n",
        "print( apellido.upper() )\n",
        "\n",
        "\n",
        "\n",
        "numeros = \"             1 ,     2              ,                         3 , 4 ,       5, 6   \"\n",
        "nume_dividos = numeros.strip().split(\",\")\n",
        "print( nume_dividos)\n",
        "\n",
        "\n",
        "#nume_dividos[0] = nume_dividos[0].strip()\n",
        "#nume_dividos[1] = nume_dividos[1].strip()\n",
        "#nume_dividos[2] = nume_dividos[2].strip()\n",
        "#nume_dividos[3] = nume_dividos[3].strip()\n",
        "#nume_dividos[4] = nume_dividos[4].strip()\n",
        "#nume_dividos[5] = nume_dividos[5].strip()\n",
        "print( nume_dividos)\n",
        "\n",
        "for elem in nume_dividos:\n",
        "  print( elem )\n",
        "\n",
        "for index in range(6):\n",
        "  nume_dividos[index] = nume_dividos[index].strip()\n",
        "print(nume_dividos)"
      ],
      "execution_count": null,
      "outputs": [
        {
          "output_type": "stream",
          "name": "stdout",
          "text": [
            "Trejo ramírez\n",
            "Trejo Ramírez\n",
            "7\n",
            "lopez perez\n",
            "TREJO RAMÍREZ\n",
            "['1 ', '     2              ', '                         3 ', ' 4 ', '       5', ' 6']\n",
            "['1 ', '     2              ', '                         3 ', ' 4 ', '       5', ' 6']\n",
            "1 \n",
            "     2              \n",
            "                         3 \n",
            " 4 \n",
            "       5\n",
            " 6\n",
            "['1', '2', '3', '4', '5', '6']\n"
          ]
        }
      ]
    },
    {
      "cell_type": "markdown",
      "metadata": {
        "id": "o3OZBDwOPWzE"
      },
      "source": [
        "# Estructuas de control\n",
        "\n",
        "\n",
        "## if\n",
        "\n",
        "\n",
        "### if-else\n",
        "\n",
        "\n",
        "## for\n",
        "\n",
        "\n",
        "## switch - case ( En python se implementa con IF)\n",
        "\n",
        "\n",
        "# while y do-while"
      ]
    },
    {
      "cell_type": "code",
      "metadata": {
        "colab": {
          "base_uri": "https://localhost:8080/"
        },
        "id": "MOD0q6TnPyzw",
        "outputId": "b7e947ce-b9ca-4cb2-f4ca-591fb33048ce"
      },
      "source": [
        "# if\n",
        "a = 12\n",
        "b = 23\n",
        "c = 4\n",
        "print ( a > b)\n",
        "\n",
        "if a > b:\n",
        "  print(\"Estamos en el if\")\n",
        "  print(\"A es mayor que B\")\n",
        "print(\"Fin del programa\")\n",
        "\n",
        "###########################\n",
        "if c > a:\n",
        "  if c > b:\n",
        "    print(\"C es el mayor de los 3\")\n",
        "\n",
        "if c > a and c > b:\n",
        "  print(\"C es el mayor de los 3\")\n",
        "\n",
        "# if-else, cual de las 3 variables es la mayor\n",
        "if a > b:\n",
        "  if a > c:\n",
        "    print(\"A es la mayor\")\n",
        "  else:\n",
        "    print(\"C es la maoyr\")\n",
        "else: \n",
        "  if b > c:\n",
        "    print(\"B es el mayor\")\n",
        "  else:\n",
        "    print(\"C es la mayor\")\n",
        "\n",
        "\n",
        "# if-else (elif) tiene una notacion especial cuando se encadena un if\n",
        "\n",
        "if a > b:\n",
        "  if a > c:\n",
        "    print(\"A es la mayor\")\n",
        "  else:\n",
        "    print(\"C es la maoyr\") \n",
        "elif b > c:\n",
        "    print(\"B es el mayor\")\n",
        "else:\n",
        "    print(\"C es la mayor\")\n",
        "\n",
        "\n",
        "# pedir al usuario un numero entre 1 y 7, e imprimir el dia de la semana \n",
        "opcion = int (input(\"Introduce un numero entre 1 y 7: \"))\n",
        "\n",
        "if opcion > 0 and opcion < 8:\n",
        "  if opcion == 1:\n",
        "    print(\"Lunes\")\n",
        "  elif opcion == 2:\n",
        "    print(\"Martes\")\n",
        "  elif opcion == 3:\n",
        "    print(\"Miercoles\")\n",
        "  elif opcion == 4:\n",
        "    print(\"Jueves\") \n",
        "  elif opcion == 5:\n",
        "    print(\"Viernes\")\n",
        "  elif opcion == 6:\n",
        "    print(\"Sabado\")\n",
        "  elif opcion == 7:\n",
        "    print(\"Domingo\")         \n",
        "else:\n",
        "  print(\"Tu dato esta fuera de lo solicitado.\")\n"
      ],
      "execution_count": 12,
      "outputs": [
        {
          "output_type": "stream",
          "name": "stdout",
          "text": [
            "False\n",
            "Fin del programa\n",
            "B es el mayor\n",
            "B es el mayor\n",
            "Introduce un numero entre 1 y 7: 5\n",
            "Viernes\n"
          ]
        }
      ]
    },
    {
      "cell_type": "code",
      "metadata": {
        "colab": {
          "base_uri": "https://localhost:8080/"
        },
        "id": "MEWw7NwoU0oR",
        "outputId": "02f6f396-049b-4b53-db63-2a6d36a742ae"
      },
      "source": [
        "# FOR y range## range() es una funcion que te proporciona un enumeracion\n",
        "\n",
        "algo = range(4,10,2)\n",
        "frutas = ['pera' , 'Manzana' , 'Aguacate' , 'Kiwi' , 'Platano']\n",
        "nombre = \"Santiago\"\n",
        "print(algo)\n",
        "\n",
        "for x in algo:  # for(int x=4;x<10;x=x+2)\n",
        "  print(x)\n",
        "\n",
        "for index in range(0,5,1):\n",
        "  print(frutas[index])\n",
        "\n",
        "# FOR e iteradores (for-aech)\n",
        "for fruit in frutas:\n",
        "  print(fruit)\n",
        "\n",
        "for letra in nombre:\n",
        "  print(letra.upper())  \n",
        "\n"
      ],
      "execution_count": null,
      "outputs": [
        {
          "output_type": "stream",
          "name": "stdout",
          "text": [
            "range(4, 10, 2)\n",
            "4\n",
            "6\n",
            "8\n",
            "pera\n",
            "Manzana\n",
            "Aguacate\n",
            "Kiwi\n",
            "Platano\n",
            "pera\n",
            "Manzana\n",
            "Aguacate\n",
            "Kiwi\n",
            "Platano\n",
            "S\n",
            "A\n",
            "N\n",
            "T\n",
            "I\n",
            "A\n",
            "G\n",
            "O\n"
          ]
        }
      ]
    },
    {
      "cell_type": "code",
      "metadata": {
        "colab": {
          "base_uri": "https://localhost:8080/"
        },
        "id": "RArPyzpZX8hb",
        "outputId": "040994fd-9fa7-4410-fc8d-d7148bd533db"
      },
      "source": [
        "# while\n",
        "\n",
        "#hacer un programa que imprima del 1 al 10 con while\n",
        "control = 1\n",
        "\n",
        "while control <= 10:\n",
        "  print( control)\n",
        "  control += 1"
      ],
      "execution_count": null,
      "outputs": [
        {
          "output_type": "stream",
          "name": "stdout",
          "text": [
            "1\n",
            "2\n",
            "3\n",
            "4\n",
            "5\n",
            "6\n",
            "7\n",
            "8\n",
            "9\n",
            "10\n"
          ]
        }
      ]
    },
    {
      "cell_type": "markdown",
      "metadata": {
        "id": "F2Ji0Cv6Y8WW"
      },
      "source": [
        "# funciones\n",
        "\n",
        "Es un segmento de codigo que recibe, cero, o mas valores de entrada, realiza una o un conjunto de operaciones de forma interna y regresa un solo tipo de dato, aunque ese valor sea None (void)\n",
        "\n",
        "Las funciones se declaran con la palabra reservada **def**"
      ]
    },
    {
      "cell_type": "code",
      "metadata": {
        "colab": {
          "base_uri": "https://localhost:8080/"
        },
        "id": "Iw5hPsQ0ZM8z",
        "outputId": "c05864bd-0720-47a4-887e-b9430c7adcfd"
      },
      "source": [
        "# funcion suma\n",
        "\n",
        "def suma( a, b):\n",
        "  c = 0\n",
        "  c = a + b\n",
        "  return c\n",
        "print( suma( 4 , 5))\n",
        "\n",
        "\n",
        "# funcion que salude personas\n",
        "def saludar( nombre):\n",
        "  print(f'Hola {nombre}, ¿Como estas?')\n",
        "\n",
        "\n",
        "saludar(\"Juan\")\n",
        "nombre = \"Pablo\"\n",
        "saludar(nombre)\n",
        "\n",
        "saludar(nombre)\n",
        "res = saludar(nombre)\n",
        "print(res)"
      ],
      "execution_count": null,
      "outputs": [
        {
          "output_type": "stream",
          "name": "stdout",
          "text": [
            "9\n",
            "Hola Juan, ¿Como estas?\n",
            "Hola Pablo, ¿Como estas?\n",
            "Hola Pablo, ¿Como estas?\n",
            "Hola Pablo, ¿Como estas?\n",
            "None\n"
          ]
        }
      ]
    },
    {
      "cell_type": "markdown",
      "metadata": {
        "id": "MkbQ5whQJO_R"
      },
      "source": [
        "# Default y funciones \n",
        "Hay ocasiones que es necesairo declarar valores por defecto de  una funcion.\n"
      ]
    },
    {
      "cell_type": "code",
      "metadata": {
        "colab": {
          "base_uri": "https://localhost:8080/"
        },
        "id": "DMakf1nbJY0S",
        "outputId": "596d22ad-bc75-4ebe-fdbc-00e5e64e0708"
      },
      "source": [
        "def saludar ( nombre , veces=5):\n",
        "  for x in range( veces ):\n",
        "      print(f'{x}.-Hola {nombre}')\n",
        "saludar( \"Juan\" , 3 )\n",
        "\n",
        "# argumentos con llamadas no posicionales \n",
        "\n",
        "saludar( veces=6 , nombre=\"Juan \")"
      ],
      "execution_count": null,
      "outputs": [
        {
          "output_type": "stream",
          "name": "stdout",
          "text": [
            "0.-Hola Juan\n",
            "1.-Hola Juan\n",
            "2.-Hola Juan\n",
            "0.-Hola Juan \n",
            "1.-Hola Juan \n",
            "2.-Hola Juan \n",
            "3.-Hola Juan \n",
            "4.-Hola Juan \n",
            "5.-Hola Juan \n"
          ]
        }
      ]
    },
    {
      "cell_type": "markdown",
      "metadata": {
        "id": "zy3EIpKNbalp"
      },
      "source": [
        "# Listas, diccionarios, tuplas y sets\n",
        "\n"
      ]
    },
    {
      "cell_type": "markdown",
      "metadata": {
        "id": "-R_pGGx8MCLQ"
      },
      "source": [
        "# Lsitas \n",
        "Son estructuras de datos decladradas en python, funcionan como los arreglos en java y c, con algunas diferencias.\n",
        "\n",
        "* Usan el selector [ ]\n",
        "* Es una estructura secuencial (0.....n)\n",
        "* Son mutables, es decir, se pueden modificar conforme se vaya utilizando\n",
        "* Puede contener valores de diferentes tipos: [entero, string , booleano, flotante ]\n",
        "* Pueden ser anidados (Multidimensional)\n",
        "* Se crean usando [] y list()"
      ]
    },
    {
      "cell_type": "code",
      "metadata": {
        "colab": {
          "base_uri": "https://localhost:8080/"
        },
        "id": "DYzFSZQnNCK1",
        "outputId": "815b6b9a-f162-4b59-e4c7-a5b3715e2506"
      },
      "source": [
        "frutas = [\"pera\" , \"lima\" , \"Limón\" , \"Kiwi\" , \"Manzana\"]\n",
        "print(frutas)\n",
        "print( frutas[1] )\n",
        "frutas[1] = \"Mango\"\n",
        "print(frutas)\n",
        "\n",
        "persona = [\"José\" , 1.78 , 18 , False , 70.5 , \"ICO\"]\n",
        "print(persona)\n",
        "print(persona[-1])\n",
        "\n",
        "numeros = [2,4,6,8,10,12,14,16,18,20]\n",
        "print(numeros[4:7:1])\n"
      ],
      "execution_count": null,
      "outputs": [
        {
          "output_type": "stream",
          "name": "stdout",
          "text": [
            "['pera', 'lima', 'Limón', 'Kiwi', 'Manzana']\n",
            "lima\n",
            "['pera', 'Mango', 'Limón', 'Kiwi', 'Manzana']\n",
            "['José', 1.78, 18, False, 70.5, 'ICO']\n",
            "ICO\n",
            "[10, 12, 14]\n"
          ]
        }
      ]
    },
    {
      "cell_type": "code",
      "metadata": {
        "colab": {
          "base_uri": "https://localhost:8080/"
        },
        "id": "wy4R0R2WPH7W",
        "outputId": "68d7b3ef-f3e9-42c5-d8c4-b481d7bac68f"
      },
      "source": [
        "# Listas multi Dimensionales\n",
        "\n",
        "bds = [\"mysql\" , \"Oracle\" , \"BD2\" , \"Mongo\" , \"SQLite\"]\n",
        "leng_prog = [\"C\" , \"Java\" , \"JS\" , \"C++\" , \"C#\" , \"Python\"]\n",
        "tecnologias = [bds , leng_prog]\n",
        "\n",
        "print(tecnologias)\n",
        "\n",
        "\"\"\"\n",
        "[\n",
        "  [\"mysql\" , \"Oracle\" , \"BD2\" , \"Mongo\" , \"SQLite\"]\n",
        "  [\"C\" , \"Java\" , \"JS\" , \"C++\" , \"C#\" , \"Python\"]\n",
        "]\n",
        "\"\"\"\n",
        "print(tecnologias[1][3]) # c++\n",
        "print(tecnologias[0][4]) #Sqlite\n",
        "print(tecnologias[1][2:5])"
      ],
      "execution_count": null,
      "outputs": [
        {
          "output_type": "stream",
          "name": "stdout",
          "text": [
            "[['mysql', 'Oracle', 'BD2', 'Mongo', 'SQLite'], ['C', 'Java', 'JS', 'C++', 'C#', 'Python']]\n",
            "C++\n",
            "SQLite\n",
            "['JS', 'C++', 'C#']\n"
          ]
        }
      ]
    },
    {
      "cell_type": "markdown",
      "metadata": {
        "id": "gc1zuXRUSzB_"
      },
      "source": [
        "La clase list\n",
        "El tipo de dato list en realidad es una clase que tiene metodos.\n"
      ]
    },
    {
      "cell_type": "code",
      "metadata": {
        "colab": {
          "base_uri": "https://localhost:8080/"
        },
        "id": "llM8P_kmS4Vx",
        "outputId": "87be669c-bf06-4f99-8777-8d6b0592ac1e"
      },
      "source": [
        "numeros = [100 , 23 , 45 , 23 , 55 , 1 , 22 , 101 , 99 , 10 , 13]\n",
        "type(numeros)\n",
        "dir(numeros)\n",
        "print(numeros.sort())\n",
        "print(numeros)\n",
        "numeros.reverse()\n",
        "print(numeros)\n",
        "\n",
        "#Eliminar un elemento de un arreglo: 2 formas\n",
        "# Forma 1: utilizando el metodo remove\n",
        "\n",
        "numeros.remove(55)\n",
        "print(numeros)\n",
        "\n",
        "# Forma 2: es utilizando el operador del\n",
        "del numeros[3]\n",
        "print(numeros)\n",
        "\n",
        "# append agrega elemento al final\n",
        "numeros.append(0)\n",
        "numeros.append(33)\n",
        "numeros.sort()\n",
        "numeros.reverse\n",
        "print(numeros)\n",
        "numeros.insert(9, 60)\n",
        "print(numeros)\n",
        "\n",
        "n = numeros.pop()\n",
        "print(n)\n",
        "print(numeros)\n",
        "\n",
        "n = numeros.pop(1)\n",
        "print(n)\n",
        "print(numeros)\n",
        "\n",
        "\n",
        "mas_numeros = [400 , 500 , 600 , 700 ]\n",
        "numeros.extend(mas_numeros)\n",
        "print(numeros)\n",
        "#numeros.clear()\n",
        "print(numeros)\n",
        "\n",
        "# Listas y la estructura de control FOR\n",
        "\n",
        "for num in numeros:\n",
        "  print(f'--> {num} <--')\n",
        "\n"
      ],
      "execution_count": null,
      "outputs": [
        {
          "output_type": "stream",
          "name": "stdout",
          "text": [
            "None\n",
            "[1, 10, 13, 22, 23, 23, 45, 55, 99, 100, 101]\n",
            "[101, 100, 99, 55, 45, 23, 23, 22, 13, 10, 1]\n",
            "[101, 100, 99, 45, 23, 23, 22, 13, 10, 1]\n",
            "[101, 100, 99, 23, 23, 22, 13, 10, 1]\n",
            "[0, 1, 10, 13, 22, 23, 23, 33, 99, 100, 101]\n",
            "[0, 1, 10, 13, 22, 23, 23, 33, 99, 60, 100, 101]\n",
            "101\n",
            "[0, 1, 10, 13, 22, 23, 23, 33, 99, 60, 100]\n",
            "1\n",
            "[0, 10, 13, 22, 23, 23, 33, 99, 60, 100]\n",
            "[0, 10, 13, 22, 23, 23, 33, 99, 60, 100, 400, 500, 600, 700]\n",
            "[0, 10, 13, 22, 23, 23, 33, 99, 60, 100, 400, 500, 600, 700]\n",
            "--> 0 <--\n",
            "--> 10 <--\n",
            "--> 13 <--\n",
            "--> 22 <--\n",
            "--> 23 <--\n",
            "--> 23 <--\n",
            "--> 33 <--\n",
            "--> 99 <--\n",
            "--> 60 <--\n",
            "--> 100 <--\n",
            "--> 400 <--\n",
            "--> 500 <--\n",
            "--> 600 <--\n",
            "--> 700 <--\n"
          ]
        }
      ]
    },
    {
      "cell_type": "markdown",
      "metadata": {
        "id": "5DbGf2upYFE6"
      },
      "source": [
        "# Diccionarios\n",
        "* Estructura no lineal\n",
        "* Formada por pares llave-valor {}\n",
        "{\"Key:valor}\n",
        "* Donde valor puede ser de cualquier tipo, int, float, str, diccionario.\n",
        "* No selecciona con [ ] X\n",
        "* Su selector es por llave (key)\n",
        "* Son mutables\n",
        "* Se selecciona con ['llave']"
      ]
    },
    {
      "cell_type": "code",
      "metadata": {
        "colab": {
          "base_uri": "https://localhost:8080/"
        },
        "id": "ZdxtRW1KYiwb",
        "outputId": "8852f36d-fb3f-4fe9-fae9-e6d25f42749f"
      },
      "source": [
        "persona = {\"nombre\" : \"José\" , \"edad\" : 19 , \"estatura\" : 1.7}\n",
        "print(persona)\n",
        "print(f\"La estatura es: {persona['estatura'] } metros\")\n",
        "estudiante = {\n",
        "          \"nombre\" : {\"nombres\" : [\"Juan\" , \"José\"],                             # DICCIONARIO\n",
        "                      \"paterno\" : \"Perez\",\n",
        "                      \"Materno\" : \"Garcia\"\n",
        "                      } , \n",
        "          \"edad\" : 19 , \n",
        "          \"estatura\" : 1.7, \n",
        "          \"carrera\": {\n",
        "                      \"escuela\" : \"UNAM FES ARAGON\",\n",
        "                      \"carrera\" : \"ICO\",\n",
        "                      \"semestre\" : 2,\n",
        "                      },\n",
        "          \"direccion\" : {\n",
        "                        \"calle\" : \"colorines\",\n",
        "                        \"num_exterior\" : 34,\n",
        "                         \"interior\" : \"apartamento B\"\n",
        "                         },\n",
        "          \"telefonos\" :{\n",
        "                        \"casa\" : 5687998435,\n",
        "                        \"celular\" : [\"+5269874563\" , \"+5269845236\"]              \n",
        "          }                                                                      #\n",
        "          }\n",
        "print(estudiante)\n",
        "print(f\"La colonia es : {estudiante['direccion']['calle']}\")\n",
        "print(f\"La estatura es de: {estudiante['estatura']} metros\")\n",
        "print(f\"El numero de telefono es  : {estudiante['telefonos'] ['celular'] [-1]}\")\n",
        "\n",
        "estudiante['direccion']['calle']='pancho lopez' # Es mutable, es decir se puede cambiar los valores\n",
        "print(estudiante['direccion'])\n",
        "\n",
        "\n",
        "estudiante['direccion']['colonia']='impulsora'\n",
        "print(estudiante['direccion']['colonia'])\n",
        "\n",
        "#Combinar con la invocacion de metodos de los valores\n",
        "#Mostrar el nombre del estudiante en mayusculas\n",
        "print(estudiante['nombre']['nombres'][0].upper() , estudiante['nombre']['nombres'][1].upper())\n",
        "\n",
        "llaves = estudiante.keys()\n",
        "print(llaves)\n",
        "print('---------------------------------------------------------')\n",
        "for llave in llaves:\n",
        "  print(llave)\n",
        "  print(estudiante[llave])\n",
        "\n",
        "print('------------values()----------')\n",
        "#VALUES\n",
        "vals = estudiante.values()\n",
        "for val in vals:\n",
        "  print(val)\n",
        "\n",
        "\n",
        "#Se salto el tema de duplas\n",
        "print('--------------------------items----------------------')\n",
        "elems = estudiante.items()\n",
        "print(elems)\n",
        "\n",
        "for par in elems:\n",
        "  #print(par)\n",
        "  print(par[1])\n",
        "#FIN INTRO DE DICCIONARIOS"
      ],
      "execution_count": null,
      "outputs": [
        {
          "output_type": "stream",
          "name": "stdout",
          "text": [
            "{'nombre': 'José', 'edad': 19, 'estatura': 1.7}\n",
            "La estatura es: 1.7 metros\n",
            "{'nombre': {'nombres': ['Juan', 'José'], 'paterno': 'Perez', 'Materno': 'Garcia'}, 'edad': 19, 'estatura': 1.7, 'carrera': {'escuela': 'UNAM FES ARAGON', 'carrera': 'ICO', 'semestre': 2}, 'direccion': {'calle': 'colorines', 'num_exterior': 34, 'interior': 'apartamento B'}, 'telefonos': {'casa': 5687998435, 'celular': ['+5269874563', '+5269845236']}}\n",
            "La colonia es : colorines\n",
            "La estatura es de: 1.7 metros\n",
            "El numero de telefono es  : +5269845236\n",
            "{'calle': 'pancho lopez', 'num_exterior': 34, 'interior': 'apartamento B'}\n",
            "impulsora\n",
            "JUAN JOSÉ\n",
            "dict_keys(['nombre', 'edad', 'estatura', 'carrera', 'direccion', 'telefonos'])\n",
            "---------------------------------------------------------\n",
            "nombre\n",
            "{'nombres': ['Juan', 'José'], 'paterno': 'Perez', 'Materno': 'Garcia'}\n",
            "edad\n",
            "19\n",
            "estatura\n",
            "1.7\n",
            "carrera\n",
            "{'escuela': 'UNAM FES ARAGON', 'carrera': 'ICO', 'semestre': 2}\n",
            "direccion\n",
            "{'calle': 'pancho lopez', 'num_exterior': 34, 'interior': 'apartamento B', 'colonia': 'impulsora'}\n",
            "telefonos\n",
            "{'casa': 5687998435, 'celular': ['+5269874563', '+5269845236']}\n",
            "------------values()----------\n",
            "{'nombres': ['Juan', 'José'], 'paterno': 'Perez', 'Materno': 'Garcia'}\n",
            "19\n",
            "1.7\n",
            "{'escuela': 'UNAM FES ARAGON', 'carrera': 'ICO', 'semestre': 2}\n",
            "{'calle': 'pancho lopez', 'num_exterior': 34, 'interior': 'apartamento B', 'colonia': 'impulsora'}\n",
            "{'casa': 5687998435, 'celular': ['+5269874563', '+5269845236']}\n",
            "--------------------------items----------------------\n",
            "dict_items([('nombre', {'nombres': ['Juan', 'José'], 'paterno': 'Perez', 'Materno': 'Garcia'}), ('edad', 19), ('estatura', 1.7), ('carrera', {'escuela': 'UNAM FES ARAGON', 'carrera': 'ICO', 'semestre': 2}), ('direccion', {'calle': 'pancho lopez', 'num_exterior': 34, 'interior': 'apartamento B', 'colonia': 'impulsora'}), ('telefonos', {'casa': 5687998435, 'celular': ['+5269874563', '+5269845236']})])\n",
            "{'nombres': ['Juan', 'José'], 'paterno': 'Perez', 'Materno': 'Garcia'}\n",
            "19\n",
            "1.7\n",
            "{'escuela': 'UNAM FES ARAGON', 'carrera': 'ICO', 'semestre': 2}\n",
            "{'calle': 'pancho lopez', 'num_exterior': 34, 'interior': 'apartamento B', 'colonia': 'impulsora'}\n",
            "{'casa': 5687998435, 'celular': ['+5269874563', '+5269845236']}\n"
          ]
        }
      ]
    },
    {
      "cell_type": "markdown",
      "metadata": {
        "id": "5mKHnZVLlV_8"
      },
      "source": [
        "# Tuplas\n",
        "\n",
        "* Estrucutura de dato lineal\n",
        "* Se declaran con (   )\n",
        "* Son **inmutables**\n",
        "* Usan menos espacio en memoria\n",
        "* Son utiles para declarar valores de consulta\n",
        "* Fuera de eso, las demas caracteristicas son las mismas que las LISTAS.\n"
      ]
    },
    {
      "cell_type": "code",
      "metadata": {
        "colab": {
          "base_uri": "https://localhost:8080/"
        },
        "id": "jiNkytd6mZ55",
        "outputId": "f3c38336-e979-455a-d6de-5963e3be4a12"
      },
      "source": [
        "datos_conexion = (\"123.234.145.23\" , \"juan\" , \"patito123\")\n",
        "print( datos_conexion[0])\n",
        "#datos_conexion[0] = \"123.435.45.21\" LAS TUPLAS SON INMUTABLES\n"
      ],
      "execution_count": null,
      "outputs": [
        {
          "output_type": "stream",
          "name": "stdout",
          "text": [
            "123.234.145.23\n"
          ]
        }
      ]
    },
    {
      "cell_type": "markdown",
      "metadata": {
        "id": "xpXY_ulro7qE"
      },
      "source": [
        "# Funciones 2° parte (El rencuentro)\n",
        "\n",
        "### Declarar funciones combinandola con ***tuplas***\n",
        "* Se puede recibir una lista de argumentos dinamica que se almacenara en una tupla. Para ello se utiliza un operador especial que es '*' en la declaracion de la funcion.\n",
        "\n",
        "`\n",
        "def mi_funcion( *algo ):\n",
        "print(algo)\n",
        "\n",
        "`\n"
      ]
    },
    {
      "cell_type": "code",
      "metadata": {
        "colab": {
          "base_uri": "https://localhost:8080/"
        },
        "id": "5XSdhp_op6rd",
        "outputId": "e7d9339d-1abc-4ddc-c440-f8bd44c83102"
      },
      "source": [
        "def mi_funcion( *argumentos):  #Sirve para que los argumentos se va convertir en una tupla \n",
        "  print(argumentos)\n",
        "\n",
        "mi_funcion(1,2,3,  \"Hola\" , 3.1416)  \n",
        "\n",
        "def suma_v2( *vals):\n",
        "  suma = 0\n",
        "  for valor in vals:\n",
        "    suma += valor\n",
        "  print(suma)\n",
        "\n",
        "  suma_v2(4,35,62,66,3,6,89,4,5)"
      ],
      "execution_count": null,
      "outputs": [
        {
          "output_type": "stream",
          "name": "stdout",
          "text": [
            "(1, 2, 3, 'Hola', 3.1416)\n"
          ]
        }
      ]
    },
    {
      "cell_type": "markdown",
      "metadata": {
        "id": "P3Gql6iascqc"
      },
      "source": [
        "### Declarar funciones con **diccionarios**\n",
        "`\n",
        "def mi_funcion (**argumentos ):\n",
        "  print(argumentos)\n",
        "`  "
      ]
    },
    {
      "cell_type": "code",
      "metadata": {
        "colab": {
          "base_uri": "https://localhost:8080/"
        },
        "id": "FEAVcwp7tNLL",
        "outputId": "e89d68c3-d8e3-44ab-bdaa-e4ae52297ef1"
      },
      "source": [
        "def mi_funcion( **argumentos ): #El argumento se convierte en un diccionario\n",
        "  print(argumentos)\n",
        "\n",
        "mi_funcion( nombre = \"josé\" , edad=19)  "
      ],
      "execution_count": null,
      "outputs": [
        {
          "output_type": "stream",
          "name": "stdout",
          "text": [
            "{'nombre': 'josé', 'edad': 19}\n"
          ]
        }
      ]
    },
    {
      "cell_type": "markdown",
      "metadata": {
        "id": "2q9gLUNquBma"
      },
      "source": [
        "# Tarea\n",
        "Hacer un programa que permita levantar la comanda de un restaturante, de la forma:\n",
        "`\n",
        "\n",
        "\n",
        "`\n",
        "El resultado debe ser asi: \n",
        "\n",
        "\n",
        "\n",
        "\n",
        "Hacer una funcion que resuelva ecuaciones de segundo grado c:\n"
      ]
    },
    {
      "cell_type": "markdown",
      "metadata": {
        "id": "wG3Na71mL52B"
      },
      "source": [
        "# Modulo\n",
        "Un modulo de python es equivalente a un package n java o a un archivo .H en lenguaje C.\n",
        "\n",
        "En él, declaras un codigo  que quieras llamar varias veces, este código debe de estar principalmente en funciones.\n"
      ]
    },
    {
      "cell_type": "code",
      "metadata": {
        "id": "eCcUYlenMvzH",
        "colab": {
          "base_uri": "https://localhost:8080/"
        },
        "outputId": "c6c6aa37-d92e-4d0b-ee0e-cd43c96a2fd8"
      },
      "source": [
        "import mimodulo\n",
        "\n",
        "mimodulo.mi_suma( 3 , 4)\n",
        "\n",
        "mimodulo.mi_print(\"hola k ase\")\n",
        "mimodulo.al_reves(\"hola k ase\")"
      ],
      "execution_count": null,
      "outputs": [
        {
          "output_type": "stream",
          "name": "stdout",
          "text": [
            "Haciendo suma\n",
            "La suma de 3 + 4 = 7\n",
            "HOLA K ASE\n",
            "esa k aloh\n"
          ]
        }
      ]
    },
    {
      "cell_type": "code",
      "metadata": {
        "colab": {
          "base_uri": "https://localhost:8080/"
        },
        "id": "vghhjUQjQ2se",
        "outputId": "914e683b-96bd-45d8-931d-7e359273af65"
      },
      "source": [
        "from mimodulo import mi_print\n",
        "from mimodulo import mi_suma\n",
        "from mimodulo import al_reves\n",
        "\n",
        "mi_print(\"Hola de nuevo\")\n",
        "mi_suma( 4 , 5)\n",
        "al_reves(\"Hola de nuevo\")\n"
      ],
      "execution_count": null,
      "outputs": [
        {
          "output_type": "stream",
          "name": "stdout",
          "text": [
            "HOLA DE NUEVO\n",
            "Haciendo suma\n",
            "La suma de 4 + 5 = 9\n",
            "oveun ed aloH\n"
          ]
        }
      ]
    },
    {
      "cell_type": "code",
      "metadata": {
        "colab": {
          "base_uri": "https://localhost:8080/"
        },
        "id": "TmCDMQ-kSP9a",
        "outputId": "b41937c9-3121-4ebc-bf71-33bda12945e8"
      },
      "source": [
        "import sys\n",
        "# dir(sys)\n",
        "print( sys.path)"
      ],
      "execution_count": null,
      "outputs": [
        {
          "output_type": "stream",
          "name": "stdout",
          "text": [
            "['', '/content', '/env/python', '/usr/lib/python37.zip', '/usr/lib/python3.7', '/usr/lib/python3.7/lib-dynload', '/usr/local/lib/python3.7/dist-packages', '/usr/lib/python3/dist-packages', '/usr/local/lib/python3.7/dist-packages/IPython/extensions', '/root/.ipython']\n"
          ]
        }
      ]
    },
    {
      "cell_type": "code",
      "metadata": {
        "colab": {
          "base_uri": "https://localhost:8080/"
        },
        "id": "00vDR8CPTzDf",
        "outputId": "4730add9-f74c-4870-9019-1d8a3bf653aa"
      },
      "source": [
        "!pip install simple-chalk"
      ],
      "execution_count": null,
      "outputs": [
        {
          "output_type": "stream",
          "name": "stdout",
          "text": [
            "Collecting simple-chalk\n",
            "  Downloading simple_chalk-0.1.0.tar.gz (13 kB)\n",
            "Building wheels for collected packages: simple-chalk\n",
            "  Building wheel for simple-chalk (setup.py) ... \u001b[?25l\u001b[?25hdone\n",
            "  Created wheel for simple-chalk: filename=simple_chalk-0.1.0-py3-none-any.whl size=22163 sha256=152eae1b217e173fd23fce84de69a643f652d9922e5e680c8512ecb0768abbd7\n",
            "  Stored in directory: /root/.cache/pip/wheels/24/e2/84/d54838032016039eef79df1137b91defaa6db068d825dfcdcd\n",
            "Successfully built simple-chalk\n",
            "Installing collected packages: simple-chalk\n",
            "Successfully installed simple-chalk-0.1.0\n"
          ]
        }
      ]
    },
    {
      "cell_type": "code",
      "metadata": {
        "colab": {
          "base_uri": "https://localhost:8080/"
        },
        "id": "otGWnsMxUXEZ",
        "outputId": "ca3acd30-fc60-497a-895b-a22cd8195422"
      },
      "source": [
        "from simple_chalk import *\n",
        "print(chalk.blue(\"Texto de prueba \"))\n",
        "\n",
        "colores = green.bold.underline\n",
        "print(colores(\"Hola soy yo de nuevo\"))\n",
        "\n",
        "verde_sobre_negro = white.bgBlack\n",
        "print(verde_sobre_negro(\"Holaaa\"))"
      ],
      "execution_count": null,
      "outputs": [
        {
          "output_type": "stream",
          "name": "stdout",
          "text": [
            "\u001b[34mTexto de prueba \u001b[0m\n",
            "\u001b[32;1;3mHola soy yo de nuevo\u001b[0m\n",
            "\u001b[37;40mHolaaa\u001b[0m\n"
          ]
        }
      ]
    },
    {
      "cell_type": "markdown",
      "metadata": {
        "id": "agU3qIkNW_SS"
      },
      "source": [
        "# Archivos\n",
        "Para abrir un archivo se utiliza la funcion open ( 'nombre' , 'AB')\n",
        "\n",
        "nombre = La ruta del archivo\n",
        "A = modo de apertura (modo escritura, lectura, etc)\n",
        "B = Formato t (texto) o b (binario)\n",
        "\n",
        "Para leer tenemos las funciones:\n",
        "\n",
        "- read()\n",
        "- readline()\n",
        "- readlines()\n"
      ]
    },
    {
      "cell_type": "code",
      "metadata": {
        "colab": {
          "base_uri": "https://localhost:8080/"
        },
        "id": "Sd0jZAdvY1hk",
        "outputId": "6df85558-c908-4524-8ab9-53cd7c9064be"
      },
      "source": [
        "!cat datos.dat"
      ],
      "execution_count": null,
      "outputs": [
        {
          "output_type": "stream",
          "name": "stdout",
          "text": [
            "1,2,3,4,5,6,7 \r\n",
            "8,9,10\r\n",
            "11,12\r\n",
            "13"
          ]
        }
      ]
    },
    {
      "cell_type": "code",
      "metadata": {
        "colab": {
          "base_uri": "https://localhost:8080/"
        },
        "id": "7dW_6oLxYSHy",
        "outputId": "e5c832bd-8b73-4864-cfee-d54262c4887f"
      },
      "source": [
        "\"\"\"\n",
        "1,2,3,4,5,6,7 \n",
        "8,9,10\n",
        "11,12\n",
        "13\n",
        "\"\"\"\n",
        "archivo = open('datos.dat', 'rt')\n",
        "info = archivo.read()\n",
        "print(info )\n",
        "\n",
        "# readline\n",
        "print('--------------')\n",
        "archivo = open('datos.dat', 'rt')\n",
        "info = archivo.readline()\n",
        "print(info)\n",
        "\n",
        "# readlines\n",
        "print('-----------')\n",
        "archivo = open('datos.dat', 'rt')\n",
        "info = archivo.readlines()\n",
        "print(info)\n",
        "for index in range(len(info)):\n",
        "  info[index] = info[index].strip()\n",
        "\n",
        "print( info)  \n",
        "\n",
        "numeros = []\n",
        "\n",
        "for grupo in info:\n",
        "  for numero in grupo.split(','):\n",
        "      numeros.append(int (numero))\n",
        "print(numeros)\n",
        "\n",
        "suma = 0\n",
        "for num in numeros:\n",
        "  suma += num\n",
        "\n",
        "print(suma)  "
      ],
      "execution_count": null,
      "outputs": [
        {
          "output_type": "stream",
          "name": "stdout",
          "text": [
            "1,2,3,4,5,6,7 \n",
            "8,9,10\n",
            "11,12\n",
            "13\n",
            "--------------\n",
            "1,2,3,4,5,6,7 \n",
            "\n",
            "-----------\n",
            "['1,2,3,4,5,6,7 \\n', '8,9,10\\n', '11,12\\n', '13']\n",
            "['1,2,3,4,5,6,7', '8,9,10', '11,12', '13']\n",
            "[1, 2, 3, 4, 5, 6, 7, 8, 9, 10, 11, 12, 13]\n",
            "91\n"
          ]
        }
      ]
    },
    {
      "cell_type": "markdown",
      "metadata": {
        "id": "HgxqabFUfNjY"
      },
      "source": [
        "# Programacion Orientada a Objetos con Python\n",
        "\n",
        "La POO es un paradigma no soportado originalmente por python, python aneja el paradigma imperativo\n",
        "\n",
        "Python simula la POO con la declaracion de clases y haciendo referencia a un objeto de forma circular.\n",
        "1. Forma 1\n",
        "`\n",
        "class <nombre de la clase>\n",
        "      <defiicion de la clase>\n",
        "`\n",
        "2. Forma 2\n",
        "`\n",
        "class <nombre de la clase> (<super clase>):\n",
        "      <definicion del cuerpo de la clase>\n",
        "`       \n",
        "El constructor se define siempre con el método __init__()\n",
        "(DOBLE GUION BAJO ANTES Y DESPUES DEL INIT)\n",
        "\n",
        "La declaracion de atributos se realiza por medio del constructor.\n",
        "\n",
        "Para hacer encapsulamiento de métodos o atributos se debe poner __ (DOBLE GUION BAJO) previo a la declaracion del atributo o método."
      ]
    },
    {
      "cell_type": "code",
      "metadata": {
        "id": "6Hg98-WagJtq"
      },
      "source": [
        "class Persona:\n",
        "  def __init__( self , n , e , est ):  # Self equivalente a this en java\n",
        "      self.__nombre = n\n",
        "      self.__edad = e\n",
        "      self.__estatura = est\n",
        "\n",
        "  def to_string( self ):\n",
        "      return \"Nombre: \" + self.__nombre + \" Edad: \" + str(self.__edad) + \" Estatura: \" + str(self.__estatura)   \n",
        "\n",
        "  def set_estatura( self, nueva_est):\n",
        "      if nueva_est > 0.10 and nueva_est < 2.5:\n",
        "        self.__estatura = nueva_est\n",
        "      else:\n",
        "        print(\"Error: Esa estatura no es posible\")\n",
        "\n",
        "  def get_estatura( self ):\n",
        "    return self.__estatura     "
      ],
      "execution_count": 1,
      "outputs": []
    },
    {
      "cell_type": "code",
      "metadata": {
        "colab": {
          "base_uri": "https://localhost:8080/"
        },
        "id": "pJdBZRzuivGa",
        "outputId": "1e4b8765-9234-44d8-abcd-82bcdbb1baa2"
      },
      "source": [
        "per = Persona(\"José\" , 18 , 1.7)\n",
        "print(per.to_string())\n",
        "\n",
        "# Encapsulamiento\n",
        "\n",
        "per.nombre = \"Pedro\" # Esto no se recomienda\n",
        "print(per.to_string())\n",
        "\n",
        "# per.estatura = 3.9\n",
        "per.set_estatura(3.9)\n",
        "print(per.to_string())\n",
        "\n",
        "print(\"Estatura: \" , end=\"\")\n",
        "#print(per.__estatura)\n",
        "print(per.get_estatura() )"
      ],
      "execution_count": 11,
      "outputs": [
        {
          "output_type": "stream",
          "name": "stdout",
          "text": [
            "Nombre: José Edad: 18 Estatura: 1.7\n",
            "Nombre: José Edad: 18 Estatura: 1.7\n",
            "Error: Esa estatura no es posible\n",
            "Nombre: José Edad: 18 Estatura: 1.7\n",
            "Estatura: 1.7\n"
          ]
        }
      ]
    },
    {
      "cell_type": "code",
      "metadata": {
        "id": "3KGAX8i6qsWb"
      },
      "source": [
        "class Estudiante( Persona ):\n",
        "    def __init__( self , nc , nombre , edad , est ):\n",
        "        self.__num_cta = nc  \n",
        "        super().__init__(nombre , edad , est )\n",
        "\n",
        "    def to_string( self ):\n",
        "        return super().to_string()  + \" Numero de cta. : \" + self.__num_cta  "
      ],
      "execution_count": 5,
      "outputs": []
    },
    {
      "cell_type": "code",
      "metadata": {
        "colab": {
          "base_uri": "https://localhost:8080/"
        },
        "id": "xfjTRDrIrGyh",
        "outputId": "e52feb44-55aa-4be8-f3ee-58c0c4699441"
      },
      "source": [
        "est = Estudiante( \"318123152\", \"José\" ,18,1.7)\n",
        "print( est.to_string() )"
      ],
      "execution_count": 6,
      "outputs": [
        {
          "output_type": "stream",
          "name": "stdout",
          "text": [
            "Nombre: José Edad: 18 Estatura: 1.7 Numero de cta. : 318123152\n"
          ]
        }
      ]
    }
  ]
}